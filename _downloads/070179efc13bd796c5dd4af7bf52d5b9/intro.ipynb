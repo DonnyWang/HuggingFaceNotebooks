{
  "cells": [
    {
      "cell_type": "code",
      "execution_count": 1,
      "metadata": {
        "id": "oMHyclO8QuK1"
      },
      "outputs": [],
      "source": [
        "# For tips on running notebooks in Google Colab, see\n",
        "# https://pytorch.org/tutorials/beginner/colab\n",
        "%matplotlib inline"
      ]
    },
    {
      "cell_type": "markdown",
      "metadata": {
        "id": "zTHtYErfQuK5"
      },
      "source": [
        "**Learn the Basics** \\|\\| [Quickstart](quickstart_tutorial.html) \\|\\|\n",
        "[Tensors](tensorqs_tutorial.html) \\|\\| [Datasets &\n",
        "DataLoaders](data_tutorial.html) \\|\\|\n",
        "[Transforms](transforms_tutorial.html) \\|\\| [Build\n",
        "Model](buildmodel_tutorial.html) \\|\\|\n",
        "[Autograd](autogradqs_tutorial.html) \\|\\|\n",
        "[Optimization](optimization_tutorial.html) \\|\\| [Save & Load\n",
        "Model](saveloadrun_tutorial.html)\n",
        "\n",
        "Learn the Basics\n",
        "================\n",
        "\n",
        "Authors: [Suraj Subramanian](https://github.com/subramen), [Seth\n",
        "Juarez](https://github.com/sethjuarez/), [Cassie\n",
        "Breviu](https://github.com/cassiebreviu/), [Dmitry\n",
        "Soshnikov](https://soshnikov.com/), [Ari\n",
        "Bornstein](https://github.com/aribornstein/)\n",
        "\n",
        "Most machine learning workflows involve working with data, creating\n",
        "models, optimizing model parameters, and saving the trained models. This\n",
        "tutorial introduces you to a complete ML workflow implemented in\n",
        "PyTorch, with links to learn more about each of these concepts.\n",
        "\n",
        "We\\'ll use the FashionMNIST dataset to train a neural network that\n",
        "predicts if an input image belongs to one of the following classes:\n",
        "T-shirt/top, Trouser, Pullover, Dress, Coat, Sandal, Shirt, Sneaker,\n",
        "Bag, or Ankle boot.\n",
        "\n",
        "[This tutorial assumes a basic familiarity with Python and Deep Learning\n",
        "concepts.]{.title-ref}\n",
        "\n",
        "Running the Tutorial Code\n",
        "-------------------------\n",
        "\n",
        "You can run this tutorial in a couple of ways:\n",
        "\n",
        "-   **In the cloud**: This is the easiest way to get started! Each\n",
        "    section has a \\\"Run in Microsoft Learn\\\" and \\\"Run in Google Colab\\\"\n",
        "    link at the top, which opens an integrated notebook in Microsoft\n",
        "    Learn or Google Colab, respectively, with the code in a fully-hosted\n",
        "    environment.\n",
        "-   **Locally**: This option requires you to setup PyTorch and\n",
        "    TorchVision first on your local machine ([installation\n",
        "    instructions](https://pytorch.org/get-started/locally/)). Download\n",
        "    the notebook or copy the code into your favorite IDE.\n",
        "\n",
        "How to Use this Guide\n",
        "---------------------\n",
        "\n",
        "If you\\'re familiar with other deep learning frameworks, check out the\n",
        "[0. Quickstart](quickstart_tutorial.html) first to quickly familiarize\n",
        "yourself with PyTorch\\'s API.\n",
        "\n",
        "If you\\'re new to deep learning frameworks, head right into the first\n",
        "section of our step-by-step guide: [1. Tensors](tensor_tutorial.html).\n",
        "\n",
        "::: {.toctree maxdepth=\"2\" hidden=\"\"}\n",
        "quickstart\\_tutorial tensorqs\\_tutorial data\\_tutorial\n",
        "transforms\\_tutorial buildmodel\\_tutorial autogradqs\\_tutorial\n",
        "optimization\\_tutorial saveloadrun\\_tutorial\n",
        ":::\n"
      ]
    },
    {
      "cell_type": "markdown",
      "source": [
        "# Test Basic Operation"
      ],
      "metadata": {
        "id": "q0FBKgmSSoaf"
      }
    },
    {
      "cell_type": "code",
      "source": [
        "import torch\n",
        "import numpy as np\n",
        "\n",
        "random_shape = torch.rand(3,4,5,6)\n",
        "random_shape"
      ],
      "metadata": {
        "id": "jOA4aThzStUS",
        "outputId": "df42ed27-a7d0-4dbe-c076-3ea73e583630",
        "colab": {
          "base_uri": "https://localhost:8080/"
        }
      },
      "execution_count": 2,
      "outputs": [
        {
          "output_type": "execute_result",
          "data": {
            "text/plain": [
              "tensor([[[[0.7043, 0.8375, 0.2579, 0.9723, 0.5110, 0.1843],\n",
              "          [0.0355, 0.3755, 0.5625, 0.4182, 0.2397, 0.4813],\n",
              "          [0.7757, 0.0078, 0.2475, 0.7714, 0.5712, 0.7680],\n",
              "          [0.0529, 0.1621, 0.8065, 0.0101, 0.4104, 0.2764],\n",
              "          [0.5514, 0.6315, 0.7626, 0.2427, 0.8722, 0.7598]],\n",
              "\n",
              "         [[0.7648, 0.8858, 0.8925, 0.7271, 0.0551, 0.1766],\n",
              "          [0.9660, 0.3129, 0.0459, 0.8610, 0.4332, 0.7786],\n",
              "          [0.2326, 0.1335, 0.6390, 0.9342, 0.1932, 0.2518],\n",
              "          [0.4857, 0.6256, 0.5958, 0.3639, 0.1015, 0.2683],\n",
              "          [0.4209, 0.8965, 0.2701, 0.7294, 0.3565, 0.0069]],\n",
              "\n",
              "         [[0.5483, 0.6529, 0.3810, 0.1274, 0.5430, 0.8800],\n",
              "          [0.6543, 0.7073, 0.2923, 0.8997, 0.3418, 0.1537],\n",
              "          [0.3276, 0.3067, 0.2145, 0.1457, 0.5527, 0.9901],\n",
              "          [0.0655, 0.2526, 0.0333, 0.1372, 0.0113, 0.3562],\n",
              "          [0.9378, 0.1892, 0.0516, 0.6285, 0.3461, 0.4598]],\n",
              "\n",
              "         [[0.5001, 0.4981, 0.7624, 0.8654, 0.9989, 0.1298],\n",
              "          [0.5884, 0.5477, 0.4213, 0.7444, 0.8283, 0.8870],\n",
              "          [0.8159, 0.2240, 0.6113, 0.1913, 0.7471, 0.1657],\n",
              "          [0.7720, 0.2629, 0.9431, 0.8934, 0.6140, 0.8733],\n",
              "          [0.5282, 0.6210, 0.3747, 0.6543, 0.2808, 0.1734]]],\n",
              "\n",
              "\n",
              "        [[[0.9494, 0.4870, 0.4031, 0.1492, 0.3976, 0.1912],\n",
              "          [0.9555, 0.5260, 0.4156, 0.3089, 0.2517, 0.2008],\n",
              "          [0.0457, 0.0925, 0.7220, 0.5889, 0.8888, 0.1505],\n",
              "          [0.8330, 0.7700, 0.5057, 0.4258, 0.0333, 0.9216],\n",
              "          [0.6881, 0.5961, 0.2400, 0.3687, 0.1322, 0.1685]],\n",
              "\n",
              "         [[0.0446, 0.4690, 0.1345, 0.3760, 0.5920, 0.2180],\n",
              "          [0.4573, 0.7175, 0.0073, 0.3057, 0.1217, 0.0168],\n",
              "          [0.2541, 0.5105, 0.9070, 0.6723, 0.0080, 0.9814],\n",
              "          [0.1700, 0.3226, 0.4703, 0.4687, 0.6862, 0.1520],\n",
              "          [0.4796, 0.2874, 0.8090, 0.8665, 0.1601, 0.1156]],\n",
              "\n",
              "         [[0.6427, 0.9785, 0.4159, 0.2814, 0.1300, 0.8600],\n",
              "          [0.2781, 0.3578, 0.4430, 0.3580, 0.6725, 0.0468],\n",
              "          [0.4262, 0.5017, 0.1280, 0.0788, 0.3456, 0.3248],\n",
              "          [0.3601, 0.0547, 0.9097, 0.2355, 0.9402, 0.0883],\n",
              "          [0.9620, 0.0282, 0.6839, 0.4195, 0.4374, 0.5414]],\n",
              "\n",
              "         [[0.4618, 0.4615, 0.4551, 0.2484, 0.3422, 0.1678],\n",
              "          [0.6819, 0.4284, 0.5506, 0.8715, 0.5261, 0.7353],\n",
              "          [0.0819, 0.7509, 0.0352, 0.2999, 0.6735, 0.4933],\n",
              "          [0.7103, 0.9405, 0.9625, 0.8719, 0.3828, 0.6933],\n",
              "          [0.1343, 0.4144, 0.9723, 0.4754, 0.0577, 0.9859]]],\n",
              "\n",
              "\n",
              "        [[[0.4771, 0.4408, 0.8066, 0.2998, 0.9850, 0.3944],\n",
              "          [0.0220, 0.9985, 0.7543, 0.0432, 0.2808, 0.5455],\n",
              "          [0.4338, 0.9676, 0.0735, 0.8384, 0.2769, 0.1825],\n",
              "          [0.8771, 0.5755, 0.9751, 0.8220, 0.6501, 0.1780],\n",
              "          [0.7351, 0.6814, 0.9424, 0.9774, 0.0042, 0.9392]],\n",
              "\n",
              "         [[0.1140, 0.5149, 0.4014, 0.9916, 0.0046, 0.9858],\n",
              "          [0.4778, 0.4810, 0.1482, 0.7119, 0.3749, 0.8812],\n",
              "          [0.6468, 0.1705, 0.2369, 0.2484, 0.6362, 0.7480],\n",
              "          [0.5287, 0.6343, 0.8164, 0.2660, 0.7157, 0.2487],\n",
              "          [0.7818, 0.3937, 0.4638, 0.9394, 0.7394, 0.5097]],\n",
              "\n",
              "         [[0.9833, 0.8292, 0.7321, 0.8021, 0.0410, 0.8788],\n",
              "          [0.4130, 0.5826, 0.0365, 0.1565, 0.6270, 0.6498],\n",
              "          [0.6056, 0.7098, 0.4599, 0.3022, 0.8688, 0.6796],\n",
              "          [0.6866, 0.9851, 0.4880, 0.4512, 0.5137, 0.2913],\n",
              "          [0.9395, 0.5857, 0.0391, 0.3763, 0.7036, 0.9398]],\n",
              "\n",
              "         [[0.7294, 0.5746, 0.7140, 0.6298, 0.0404, 0.4781],\n",
              "          [0.3685, 0.4589, 0.2475, 0.6303, 0.7675, 0.9017],\n",
              "          [0.1294, 0.5019, 0.7567, 0.7080, 0.7226, 0.7375],\n",
              "          [0.6924, 0.1121, 0.6180, 0.7166, 0.6505, 0.0031],\n",
              "          [0.3198, 0.3323, 0.3522, 0.8903, 0.7428, 0.9872]]]])"
            ]
          },
          "metadata": {},
          "execution_count": 2
        }
      ]
    },
    {
      "cell_type": "code",
      "source": [
        "tensor = torch.rand(4,6)\n",
        "if torch.cuda.is_available():\n",
        "  tensor = tensor.to('cuda')\n",
        "\n",
        "\n",
        "tensor = torch.ones(4, 4)\n",
        "print('First row: ',tensor[0])\n",
        "print('First column: ', tensor[:, 0])\n",
        "print('Last column:', tensor[..., -1])\n",
        "tensor[:,1] = 0\n",
        "print(tensor)\n",
        "\n",
        "print(tensor.device)\n",
        "\n",
        "tensor.to('cuda')\n",
        "print(tensor.device)"
      ],
      "metadata": {
        "id": "rx_QGSp8TM-j",
        "outputId": "0a5e863a-64ee-406e-eb96-072f476a70c7",
        "colab": {
          "base_uri": "https://localhost:8080/",
          "height": 216
        }
      },
      "execution_count": 1,
      "outputs": [
        {
          "output_type": "error",
          "ename": "NameError",
          "evalue": "name 'torch' is not defined",
          "traceback": [
            "\u001b[0;31m---------------------------------------------------------------------------\u001b[0m",
            "\u001b[0;31mNameError\u001b[0m                                 Traceback (most recent call last)",
            "\u001b[0;32m<ipython-input-1-2ff739eafe2f>\u001b[0m in \u001b[0;36m<cell line: 0>\u001b[0;34m()\u001b[0m\n\u001b[0;32m----> 1\u001b[0;31m \u001b[0mtensor\u001b[0m \u001b[0;34m=\u001b[0m \u001b[0mtorch\u001b[0m\u001b[0;34m.\u001b[0m\u001b[0mrand\u001b[0m\u001b[0;34m(\u001b[0m\u001b[0;36m4\u001b[0m\u001b[0;34m,\u001b[0m\u001b[0;36m6\u001b[0m\u001b[0;34m)\u001b[0m\u001b[0;34m\u001b[0m\u001b[0;34m\u001b[0m\u001b[0m\n\u001b[0m\u001b[1;32m      2\u001b[0m \u001b[0;32mif\u001b[0m \u001b[0mtorch\u001b[0m\u001b[0;34m.\u001b[0m\u001b[0mcuda\u001b[0m\u001b[0;34m.\u001b[0m\u001b[0mis_available\u001b[0m\u001b[0;34m(\u001b[0m\u001b[0;34m)\u001b[0m\u001b[0;34m:\u001b[0m\u001b[0;34m\u001b[0m\u001b[0;34m\u001b[0m\u001b[0m\n\u001b[1;32m      3\u001b[0m   \u001b[0mtensor\u001b[0m \u001b[0;34m=\u001b[0m \u001b[0mtensor\u001b[0m\u001b[0;34m.\u001b[0m\u001b[0mto\u001b[0m\u001b[0;34m(\u001b[0m\u001b[0;34m'cuda'\u001b[0m\u001b[0;34m)\u001b[0m\u001b[0;34m\u001b[0m\u001b[0;34m\u001b[0m\u001b[0m\n\u001b[1;32m      4\u001b[0m \u001b[0;34m\u001b[0m\u001b[0m\n\u001b[1;32m      5\u001b[0m \u001b[0;34m\u001b[0m\u001b[0m\n",
            "\u001b[0;31mNameError\u001b[0m: name 'torch' is not defined"
          ]
        }
      ]
    }
  ],
  "metadata": {
    "kernelspec": {
      "display_name": "Python 3",
      "name": "python3"
    },
    "language_info": {
      "codemirror_mode": {
        "name": "ipython",
        "version": 3
      },
      "file_extension": ".py",
      "mimetype": "text/x-python",
      "name": "python",
      "nbconvert_exporter": "python",
      "pygments_lexer": "ipython3",
      "version": "3.10.12"
    },
    "colab": {
      "provenance": [],
      "toc_visible": true,
      "gpuType": "V28"
    },
    "accelerator": "TPU"
  },
  "nbformat": 4,
  "nbformat_minor": 0
}